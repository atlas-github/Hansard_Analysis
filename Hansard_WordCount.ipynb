{
  "nbformat": 4,
  "nbformat_minor": 0,
  "metadata": {
    "colab": {
      "name": "Hansard_WordCount.ipynb",
      "provenance": [],
      "collapsed_sections": [],
      "authorship_tag": "ABX9TyM0XkSixJJziZXE/jpT5vGU",
      "include_colab_link": true
    },
    "kernelspec": {
      "name": "python3",
      "display_name": "Python 3"
    }
  },
  "cells": [
    {
      "cell_type": "markdown",
      "metadata": {
        "id": "view-in-github",
        "colab_type": "text"
      },
      "source": [
        "<a href=\"https://colab.research.google.com/github/atlas-github/Hansard_Analysis/blob/master/Hansard_WordCount.ipynb\" target=\"_parent\"><img src=\"https://colab.research.google.com/assets/colab-badge.svg\" alt=\"Open In Colab\"/></a>"
      ]
    },
    {
      "cell_type": "code",
      "metadata": {
        "id": "Z76DaYui6hNK",
        "colab_type": "code",
        "colab": {
          "base_uri": "https://localhost:8080/",
          "height": 207
        },
        "outputId": "3b92c968-53af-458f-8fbc-f4ecb9f3ea8f"
      },
      "source": [
        "!pip install PyPDF2"
      ],
      "execution_count": 2,
      "outputs": [
        {
          "output_type": "stream",
          "text": [
            "Collecting PyPDF2\n",
            "\u001b[?25l  Downloading https://files.pythonhosted.org/packages/b4/01/68fcc0d43daf4c6bdbc6b33cc3f77bda531c86b174cac56ef0ffdb96faab/PyPDF2-1.26.0.tar.gz (77kB)\n",
            "\r\u001b[K     |████▎                           | 10kB 21.5MB/s eta 0:00:01\r\u001b[K     |████████▌                       | 20kB 1.5MB/s eta 0:00:01\r\u001b[K     |████████████▊                   | 30kB 1.7MB/s eta 0:00:01\r\u001b[K     |█████████████████               | 40kB 1.6MB/s eta 0:00:01\r\u001b[K     |█████████████████████▏          | 51kB 1.8MB/s eta 0:00:01\r\u001b[K     |█████████████████████████▍      | 61kB 2.2MB/s eta 0:00:01\r\u001b[K     |█████████████████████████████▋  | 71kB 2.3MB/s eta 0:00:01\r\u001b[K     |████████████████████████████████| 81kB 2.2MB/s \n",
            "\u001b[?25hBuilding wheels for collected packages: PyPDF2\n",
            "  Building wheel for PyPDF2 (setup.py) ... \u001b[?25l\u001b[?25hdone\n",
            "  Created wheel for PyPDF2: filename=PyPDF2-1.26.0-cp36-none-any.whl size=61086 sha256=62997482e03a7c4f0a10d54809f6e07f52891e03742baeb0dcfc10da5d1d5c7e\n",
            "  Stored in directory: /root/.cache/pip/wheels/53/84/19/35bc977c8bf5f0c23a8a011aa958acd4da4bbd7a229315c1b7\n",
            "Successfully built PyPDF2\n",
            "Installing collected packages: PyPDF2\n",
            "Successfully installed PyPDF2-1.26.0\n"
          ],
          "name": "stdout"
        }
      ]
    },
    {
      "cell_type": "code",
      "metadata": {
        "id": "lGxIBFok6mJO",
        "colab_type": "code",
        "colab": {}
      },
      "source": [
        "import PyPDF2\n",
        "import pandas as pd\n",
        "\n",
        "def word_count(filename):\n",
        "  pdfFileObject = open(r'DR-05122019.pdf', 'rb')   ##need to modify this part to generic filename\n",
        "  pdfReader = PyPDF2.PdfFileReader(pdfFileObject)\n",
        "  pageObject = pdfReader.getPage(0)\n",
        "  #pdfFileObject.close()\n",
        "\n",
        "  contents = list(pageObject.extractText().split(\")\\n \\n \\n\"))\n",
        "  pd.set_option('display.max_colwidth', None)\n",
        "  df1 = pd.DataFrame(contents, columns = {\"Agenda\"})\n",
        "  df1 = df1[:-1]\n",
        "  #df1\n",
        "\n",
        "  df2 = df1['Agenda'].str.split('Halaman', 1, expand=True)\n",
        "  df2 = df2.rename(columns = {0: \"Agenda\", 1: \"Page\"})\n",
        "  df2['Agenda'] = df2['Agenda'].str.replace('\\n', '')\n",
        "  df2['Agenda'] = df2['Agenda'].str[:-2]\n",
        "\n",
        "  agg_word_count = []\n",
        "\n",
        "  word_count = []\n",
        "\n",
        "  for i in range(len(df2)-1): \n",
        "    for j in range(int(df2.iloc[i, 1]), int(df2.iloc[i+1, 1])):\n",
        "      pageObject2 = pdfReader.getPage(j)\n",
        "      word_count_page = len(pageObject2.extractText().split())\n",
        "      word_count.append(word_count_page)\n",
        "    agg_word_count.append(sum(word_count))\n",
        "\n",
        "  topic_word_count = []\n",
        "\n",
        "  for i in range(len(agg_word_count)):\n",
        "    topic_word_count.append(max(agg_word_count[i] - agg_word_count[i-1], 0))\n",
        "\n",
        "  df_word_count = pd.DataFrame(topic_word_count, columns = {'Word_Count'})\n",
        "  initial = pd.DataFrame([0], columns = {\"Word_Count\"})\n",
        "  df_word_count_final = pd.concat([initial, df_word_count], ignore_index = True)\n",
        "  df_word_count_merged = pd.concat([df2, df_word_count_final], axis = 1)\n",
        "  return(df_word_count_merged)"
      ],
      "execution_count": 0,
      "outputs": []
    },
    {
      "cell_type": "code",
      "metadata": {
        "id": "ge6RMolRJslG",
        "colab_type": "code",
        "colab": {
          "base_uri": "https://localhost:8080/",
          "height": 458
        },
        "outputId": "ccc6f6a4-b77e-45e3-8ec6-8d5bbb835e1f"
      },
      "source": [
        "word_count('DR-04122019.pdf')"
      ],
      "execution_count": 108,
      "outputs": [
        {
          "output_type": "execute_result",
          "data": {
            "text/html": [
              "<div>\n",
              "<style scoped>\n",
              "    .dataframe tbody tr th:only-of-type {\n",
              "        vertical-align: middle;\n",
              "    }\n",
              "\n",
              "    .dataframe tbody tr th {\n",
              "        vertical-align: top;\n",
              "    }\n",
              "\n",
              "    .dataframe thead th {\n",
              "        text-align: right;\n",
              "    }\n",
              "</style>\n",
              "<table border=\"1\" class=\"dataframe\">\n",
              "  <thead>\n",
              "    <tr style=\"text-align: right;\">\n",
              "      <th></th>\n",
              "      <th>Agenda</th>\n",
              "      <th>Page</th>\n",
              "      <th>Word_Count</th>\n",
              "    </tr>\n",
              "  </thead>\n",
              "  <tbody>\n",
              "    <tr>\n",
              "      <th>0</th>\n",
              "      <td>Naskhah belum disemak   PENYATA RASMI PARLIMEN DEWAN RAKYAT PARLIMEN KEEMPAT BELAS PENGGAL KEDUA MESYUARAT KETIGA   Bil. 68 Khamis        5 Disember 2019   K A N D U N G A N   PEMASYHURAN TUAN YANG DI-PETUA:  - Hari Terakhir Setiausaha Dewan Rakyat, Datuk Roosme binti Hamzah   Mengendalikan Urusan Dewan Rakyat</td>\n",
              "      <td>1</td>\n",
              "      <td>0</td>\n",
              "    </tr>\n",
              "    <tr>\n",
              "      <th>1</th>\n",
              "      <td>USUL MENANGGUHKAN BACAAN KALI YANG KEDUA DAN KETIGA    RANG UNDANG-UNDANG DI BAWAH P.M. 62</td>\n",
              "      <td>1</td>\n",
              "      <td>0</td>\n",
              "    </tr>\n",
              "    <tr>\n",
              "      <th>2</th>\n",
              "      <td>JAWAPAN-JAWAPAN MENTERI BAGI PERTANYAAN-PERTANYAAN</td>\n",
              "      <td>2</td>\n",
              "      <td>224</td>\n",
              "    </tr>\n",
              "    <tr>\n",
              "      <th>3</th>\n",
              "      <td>JAWAPAN-JAWAPAN LISAN BAGI PERTANYAAN-PERTANYAAN</td>\n",
              "      <td>8</td>\n",
              "      <td>2501</td>\n",
              "    </tr>\n",
              "    <tr>\n",
              "      <th>4</th>\n",
              "      <td>USUL:  Waktu Mesyuarat dan Urusan Dibebaskan Daripada    Peraturan Mesyuarat</td>\n",
              "      <td>37</td>\n",
              "      <td>12269</td>\n",
              "    </tr>\n",
              "    <tr>\n",
              "      <th>5</th>\n",
              "      <td>PETUA TUAN YANG DI-PERTUA:  -</td>\n",
              "      <td>37</td>\n",
              "      <td>0</td>\n",
              "    </tr>\n",
              "    <tr>\n",
              "      <th>6</th>\n",
              "      <td>USUL MENTERI DI JABATAN PERDANA MENTERI   DI BAWAH P.M 27(3):  - Laporan Tahunan dan Penyata Kewangan Suruhanjaya    Hak Asasi Manusia Malaysia (SUHAKAM) 2018</td>\n",
              "      <td>42</td>\n",
              "      <td>1878</td>\n",
              "    </tr>\n",
              "    <tr>\n",
              "      <th>7</th>\n",
              "      <td>USUL-USUL MENTERI KEWANGAN:  - Akta Kastam 1967</td>\n",
              "      <td>100</td>\n",
              "      <td>24052</td>\n",
              "    </tr>\n",
              "    <tr>\n",
              "      <th>8</th>\n",
              "      <td>- Akta Eksais 1976</td>\n",
              "      <td>104</td>\n",
              "      <td>1669</td>\n",
              "    </tr>\n",
              "    <tr>\n",
              "      <th>9</th>\n",
              "      <td>- Akta Cukai Perkhidmatan 2018</td>\n",
              "      <td>105</td>\n",
              "      <td>378</td>\n",
              "    </tr>\n",
              "    <tr>\n",
              "      <th>10</th>\n",
              "      <td>USUL MENTERI SUMBER MANUSIA DI BAWAH P.M 27(3):  - Merujuk YB. Pasir Salak Kepada Jawatankuasa Hak dan Kebebasan</td>\n",
              "      <td>111</td>\n",
              "      <td>2335</td>\n",
              "    </tr>\n",
              "  </tbody>\n",
              "</table>\n",
              "</div>"
            ],
            "text/plain": [
              "                                                                                                                                                                                                                                                                                                                     Agenda  ... Word_Count\n",
              "0   Naskhah belum disemak   PENYATA RASMI PARLIMEN DEWAN RAKYAT PARLIMEN KEEMPAT BELAS PENGGAL KEDUA MESYUARAT KETIGA   Bil. 68 Khamis        5 Disember 2019   K A N D U N G A N   PEMASYHURAN TUAN YANG DI-PETUA:  - Hari Terakhir Setiausaha Dewan Rakyat, Datuk Roosme binti Hamzah   Mengendalikan Urusan Dewan Rakyat  ...          0\n",
              "1                                                                                                                                                                                                                                USUL MENANGGUHKAN BACAAN KALI YANG KEDUA DAN KETIGA    RANG UNDANG-UNDANG DI BAWAH P.M. 62  ...          0\n",
              "2                                                                                                                                                                                                                                                                        JAWAPAN-JAWAPAN MENTERI BAGI PERTANYAAN-PERTANYAAN  ...        224\n",
              "3                                                                                                                                                                                                                                                                          JAWAPAN-JAWAPAN LISAN BAGI PERTANYAAN-PERTANYAAN  ...       2501\n",
              "4                                                                                                                                                                                                                                              USUL:  Waktu Mesyuarat dan Urusan Dibebaskan Daripada    Peraturan Mesyuarat  ...      12269\n",
              "5                                                                                                                                                                                                                                                                                            PETUA TUAN YANG DI-PERTUA:  -   ...          0\n",
              "6                                                                                                                                                           USUL MENTERI DI JABATAN PERDANA MENTERI   DI BAWAH P.M 27(3):  - Laporan Tahunan dan Penyata Kewangan Suruhanjaya    Hak Asasi Manusia Malaysia (SUHAKAM) 2018   ...       1878\n",
              "7                                                                                                                                                                                                                                                                          USUL-USUL MENTERI KEWANGAN:  - Akta Kastam 1967   ...      24052\n",
              "8                                                                                                                                                                                                                                                                                                       - Akta Eksais 1976   ...       1669\n",
              "9                                                                                                                                                                                                                                                                                           - Akta Cukai Perkhidmatan 2018   ...        378\n",
              "10                                                                                                                                                                                                         USUL MENTERI SUMBER MANUSIA DI BAWAH P.M 27(3):  - Merujuk YB. Pasir Salak Kepada Jawatankuasa Hak dan Kebebasan  ...       2335\n",
              "\n",
              "[11 rows x 3 columns]"
            ]
          },
          "metadata": {
            "tags": []
          },
          "execution_count": 108
        }
      ]
    },
    {
      "cell_type": "code",
      "metadata": {
        "id": "ixOCNM-4_I7R",
        "colab_type": "code",
        "colab": {
          "base_uri": "https://localhost:8080/",
          "height": 34
        },
        "outputId": "68afdfcf-691b-421f-8fb4-efc6851db16c"
      },
      "source": [
        "import timeit\n",
        "starttime = timeit.default_timer()\n",
        "word_count('DR-04122019.pdf')\n",
        "timeit.default_timer() - starttime"
      ],
      "execution_count": 107,
      "outputs": [
        {
          "output_type": "execute_result",
          "data": {
            "text/plain": [
              "4.750962561000051"
            ]
          },
          "metadata": {
            "tags": []
          },
          "execution_count": 107
        }
      ]
    },
    {
      "cell_type": "code",
      "metadata": {
        "id": "llxLNGWqHYnl",
        "colab_type": "code",
        "colab": {}
      },
      "source": [
        ""
      ],
      "execution_count": 0,
      "outputs": []
    }
  ]
}