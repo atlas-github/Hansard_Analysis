{
  "nbformat": 4,
  "nbformat_minor": 0,
  "metadata": {
    "colab": {
      "name": "Hansard_EmotionAnalysis.ipynb",
      "provenance": [],
      "collapsed_sections": [],
      "authorship_tag": "ABX9TyNElnh62ognhISYwb0Q3BV9",
      "include_colab_link": true
    },
    "kernelspec": {
      "name": "python3",
      "display_name": "Python 3"
    }
  },
  "cells": [
    {
      "cell_type": "markdown",
      "metadata": {
        "id": "view-in-github",
        "colab_type": "text"
      },
      "source": [
        "<a href=\"https://colab.research.google.com/github/atlas-github/Hansard_Analysis/blob/master/Hansard_EmotionAnalysis.ipynb\" target=\"_parent\"><img src=\"https://colab.research.google.com/assets/colab-badge.svg\" alt=\"Open In Colab\"/></a>"
      ]
    },
    {
      "cell_type": "code",
      "metadata": {
        "id": "qzwQbG3t_-Nn",
        "colab_type": "code",
        "colab": {
          "base_uri": "https://localhost:8080/",
          "height": 1000
        },
        "outputId": "583e03db-f862-4e2a-ca63-b697a98bff4a"
      },
      "source": [
        "%tensorflow_version 1.14\n",
        "!pip install PyPDF2\n",
        "!pip install malaya\n",
        "#!pip install tensorflow==1.14\n",
        "import malaya"
      ],
      "execution_count": 2,
      "outputs": [
        {
          "output_type": "stream",
          "text": [
            "`%tensorflow_version` only switches the major version: 1.x or 2.x.\n",
            "You set: `1.14`. This will be interpreted as: `1.x`.\n",
            "\n",
            "\n",
            "TensorFlow 1.x selected.\n",
            "Requirement already satisfied: PyPDF2 in /usr/local/lib/python3.6/dist-packages (1.26.0)\n",
            "Collecting malaya\n",
            "\u001b[?25l  Downloading https://files.pythonhosted.org/packages/15/2d/c6e0362c407dd7a500ac59ff5b458b0d6f4d7120f0c6c86cf129cdaae8bd/malaya-3.3.2-py3-none-any.whl (2.0MB)\n",
            "\u001b[K     |████████████████████████████████| 2.0MB 2.7MB/s \n",
            "\u001b[?25hCollecting unidecode\n",
            "\u001b[?25l  Downloading https://files.pythonhosted.org/packages/d0/42/d9edfed04228bacea2d824904cae367ee9efd05e6cce7ceaaedd0b0ad964/Unidecode-1.1.1-py2.py3-none-any.whl (238kB)\n",
            "\u001b[K     |████████████████████████████████| 245kB 56.5MB/s \n",
            "\u001b[?25hCollecting dateparser\n",
            "\u001b[?25l  Downloading https://files.pythonhosted.org/packages/ad/0c/aba72d8454c28ab3800f3efd1ab3fe4f3fa41eb2746adc0cdcb318200796/dateparser-0.7.4-py2.py3-none-any.whl (353kB)\n",
            "\u001b[K     |████████████████████████████████| 358kB 52.0MB/s \n",
            "\u001b[?25hRequirement already satisfied: sklearn in /usr/local/lib/python3.6/dist-packages (from malaya) (0.0)\n",
            "Requirement already satisfied: requests in /usr/local/lib/python3.6/dist-packages (from malaya) (2.21.0)\n",
            "Requirement already satisfied: numpy in /usr/local/lib/python3.6/dist-packages (from malaya) (1.18.2)\n",
            "Collecting PySastrawi\n",
            "\u001b[?25l  Downloading https://files.pythonhosted.org/packages/61/84/b0a5454a040f81e81e6a95a5d5635f20ad43cc0c288f8b4966b339084962/PySastrawi-1.2.0-py2.py3-none-any.whl (210kB)\n",
            "\u001b[K     |████████████████████████████████| 215kB 58.7MB/s \n",
            "\u001b[?25hCollecting ftfy\n",
            "\u001b[?25l  Downloading https://files.pythonhosted.org/packages/ec/d8/5e877ac5e827eaa41a7ea8c0dc1d3042e05d7e337604dc2aedb854e7b500/ftfy-5.7.tar.gz (58kB)\n",
            "\u001b[K     |████████████████████████████████| 61kB 9.2MB/s \n",
            "\u001b[?25hCollecting herpetologist\n",
            "  Downloading https://files.pythonhosted.org/packages/ee/28/9307bf82a660f9791453b0fe175a0171db0507ed8d3c06644676e743afe6/herpetologist-0.0.7-py3-none-any.whl\n",
            "Collecting sentencepiece\n",
            "\u001b[?25l  Downloading https://files.pythonhosted.org/packages/74/f4/2d5214cbf13d06e7cb2c20d84115ca25b53ea76fa1f0ade0e3c9749de214/sentencepiece-0.1.85-cp36-cp36m-manylinux1_x86_64.whl (1.0MB)\n",
            "\u001b[K     |████████████████████████████████| 1.0MB 39.9MB/s \n",
            "\u001b[?25hRequirement already satisfied: networkx in /usr/local/lib/python3.6/dist-packages (from malaya) (2.4)\n",
            "Requirement already satisfied: scikit-learn in /usr/local/lib/python3.6/dist-packages (from malaya) (0.22.2.post1)\n",
            "Requirement already satisfied: scipy in /usr/local/lib/python3.6/dist-packages (from malaya) (1.4.1)\n",
            "Requirement already satisfied: tensorflow>=1.15.2 in /tensorflow-1.15.2/python3.6 (from malaya) (1.15.2)\n",
            "Requirement already satisfied: tqdm in /usr/local/lib/python3.6/dist-packages (from malaya) (4.38.0)\n",
            "Collecting bert-tensorflow\n",
            "\u001b[?25l  Downloading https://files.pythonhosted.org/packages/a6/66/7eb4e8b6ea35b7cc54c322c816f976167a43019750279a8473d355800a93/bert_tensorflow-1.0.1-py2.py3-none-any.whl (67kB)\n",
            "\u001b[K     |████████████████████████████████| 71kB 6.7MB/s \n",
            "\u001b[?25hRequirement already satisfied: python-dateutil in /usr/local/lib/python3.6/dist-packages (from dateparser->malaya) (2.8.1)\n",
            "Requirement already satisfied: tzlocal in /usr/local/lib/python3.6/dist-packages (from dateparser->malaya) (1.5.1)\n",
            "Requirement already satisfied: pytz in /usr/local/lib/python3.6/dist-packages (from dateparser->malaya) (2018.9)\n",
            "Requirement already satisfied: regex!=2019.02.19 in /usr/local/lib/python3.6/dist-packages (from dateparser->malaya) (2019.12.20)\n",
            "Requirement already satisfied: urllib3<1.25,>=1.21.1 in /usr/local/lib/python3.6/dist-packages (from requests->malaya) (1.24.3)\n",
            "Requirement already satisfied: certifi>=2017.4.17 in /usr/local/lib/python3.6/dist-packages (from requests->malaya) (2019.11.28)\n",
            "Requirement already satisfied: chardet<3.1.0,>=3.0.2 in /usr/local/lib/python3.6/dist-packages (from requests->malaya) (3.0.4)\n",
            "Requirement already satisfied: idna<2.9,>=2.5 in /usr/local/lib/python3.6/dist-packages (from requests->malaya) (2.8)\n",
            "Requirement already satisfied: wcwidth in /usr/local/lib/python3.6/dist-packages (from ftfy->malaya) (0.1.9)\n",
            "Collecting memoization\n",
            "  Downloading https://files.pythonhosted.org/packages/f6/4f/70addf81a3a1293ccbfa2f2abc0e2554b5592b28c3cd5025984fa9555c7c/memoization-0.2.3-py3-none-any.whl\n",
            "Requirement already satisfied: decorator>=4.3.0 in /usr/local/lib/python3.6/dist-packages (from networkx->malaya) (4.4.2)\n",
            "Requirement already satisfied: joblib>=0.11 in /usr/local/lib/python3.6/dist-packages (from scikit-learn->malaya) (0.14.1)\n",
            "Requirement already satisfied: astor>=0.6.0 in /usr/local/lib/python3.6/dist-packages (from tensorflow>=1.15.2->malaya) (0.8.1)\n",
            "Collecting gast==0.2.2\n",
            "  Downloading https://files.pythonhosted.org/packages/4e/35/11749bf99b2d4e3cceb4d55ca22590b0d7c2c62b9de38ac4a4a7f4687421/gast-0.2.2.tar.gz\n",
            "Requirement already satisfied: wheel>=0.26; python_version >= \"3\" in /usr/local/lib/python3.6/dist-packages (from tensorflow>=1.15.2->malaya) (0.34.2)\n",
            "Requirement already satisfied: grpcio>=1.8.6 in /usr/local/lib/python3.6/dist-packages (from tensorflow>=1.15.2->malaya) (1.27.2)\n",
            "Requirement already satisfied: keras-applications>=1.0.8 in /usr/local/lib/python3.6/dist-packages (from tensorflow>=1.15.2->malaya) (1.0.8)\n",
            "Requirement already satisfied: absl-py>=0.7.0 in /usr/local/lib/python3.6/dist-packages (from tensorflow>=1.15.2->malaya) (0.9.0)\n",
            "Requirement already satisfied: wrapt>=1.11.1 in /usr/local/lib/python3.6/dist-packages (from tensorflow>=1.15.2->malaya) (1.12.1)\n",
            "Requirement already satisfied: tensorflow-estimator==1.15.1 in /tensorflow-1.15.2/python3.6 (from tensorflow>=1.15.2->malaya) (1.15.1)\n",
            "Requirement already satisfied: protobuf>=3.6.1 in /usr/local/lib/python3.6/dist-packages (from tensorflow>=1.15.2->malaya) (3.10.0)\n",
            "Requirement already satisfied: keras-preprocessing>=1.0.5 in /usr/local/lib/python3.6/dist-packages (from tensorflow>=1.15.2->malaya) (1.1.0)\n",
            "Requirement already satisfied: termcolor>=1.1.0 in /usr/local/lib/python3.6/dist-packages (from tensorflow>=1.15.2->malaya) (1.1.0)\n",
            "Requirement already satisfied: google-pasta>=0.1.6 in /usr/local/lib/python3.6/dist-packages (from tensorflow>=1.15.2->malaya) (0.2.0)\n",
            "Requirement already satisfied: tensorboard<1.16.0,>=1.15.0 in /tensorflow-1.15.2/python3.6 (from tensorflow>=1.15.2->malaya) (1.15.0)\n",
            "Requirement already satisfied: six>=1.10.0 in /usr/local/lib/python3.6/dist-packages (from tensorflow>=1.15.2->malaya) (1.12.0)\n",
            "Requirement already satisfied: opt-einsum>=2.3.2 in /usr/local/lib/python3.6/dist-packages (from tensorflow>=1.15.2->malaya) (3.2.0)\n",
            "Requirement already satisfied: h5py in /usr/local/lib/python3.6/dist-packages (from keras-applications>=1.0.8->tensorflow>=1.15.2->malaya) (2.10.0)\n",
            "Requirement already satisfied: setuptools in /usr/local/lib/python3.6/dist-packages (from protobuf>=3.6.1->tensorflow>=1.15.2->malaya) (46.0.0)\n",
            "Requirement already satisfied: markdown>=2.6.8 in /usr/local/lib/python3.6/dist-packages (from tensorboard<1.16.0,>=1.15.0->tensorflow>=1.15.2->malaya) (3.2.1)\n",
            "Requirement already satisfied: werkzeug>=0.11.15 in /usr/local/lib/python3.6/dist-packages (from tensorboard<1.16.0,>=1.15.0->tensorflow>=1.15.2->malaya) (1.0.0)\n",
            "Building wheels for collected packages: ftfy, gast\n",
            "  Building wheel for ftfy (setup.py) ... \u001b[?25l\u001b[?25hdone\n",
            "  Created wheel for ftfy: filename=ftfy-5.7-cp36-none-any.whl size=44593 sha256=7f486e27774119f3e2450a0c5d1b034cee19c742defb64e0bd466c86ac9e93c5\n",
            "  Stored in directory: /root/.cache/pip/wheels/8e/da/59/6c8925d571aacade638a0f515960c21c0887af1bfe31908fbf\n",
            "  Building wheel for gast (setup.py) ... \u001b[?25l\u001b[?25hdone\n",
            "  Created wheel for gast: filename=gast-0.2.2-cp36-none-any.whl size=7540 sha256=d9b1e2ba466ec4b6989ff67c682d52e6fecc335dbb555721a996165002e67d5f\n",
            "  Stored in directory: /root/.cache/pip/wheels/5c/2e/7e/a1d4d4fcebe6c381f378ce7743a3ced3699feb89bcfbdadadd\n",
            "Successfully built ftfy gast\n",
            "Installing collected packages: unidecode, dateparser, PySastrawi, ftfy, memoization, herpetologist, sentencepiece, bert-tensorflow, malaya, gast\n",
            "  Found existing installation: gast 0.3.3\n",
            "    Uninstalling gast-0.3.3:\n",
            "      Successfully uninstalled gast-0.3.3\n",
            "Successfully installed PySastrawi-1.2.0 bert-tensorflow-1.0.1 dateparser-0.7.4 ftfy-5.7 gast-0.2.2 herpetologist-0.0.7 malaya-3.3.2 memoization-0.2.3 sentencepiece-0.1.85 unidecode-1.1.1\n"
          ],
          "name": "stdout"
        }
      ]
    },
    {
      "cell_type": "code",
      "metadata": {
        "id": "yq9P21dHMwvM",
        "colab_type": "code",
        "colab": {
          "base_uri": "https://localhost:8080/",
          "height": 441
        },
        "outputId": "b7e64b0f-97cd-40d9-8e37-56749dff8af9"
      },
      "source": [
        "import PyPDF2\n",
        "import pandas as pd\n",
        "\n",
        "pdfFileObject = open(r'DR-05122019.pdf', 'rb')   ##For Wyhow to modify this part to generic filename\n",
        "pdfReader = PyPDF2.PdfFileReader(pdfFileObject)\n",
        "pageObject = pdfReader.getPage(0)\n",
        "#pdfFileObject.close()\n",
        "\n",
        "contents = list(pageObject.extractText().split(\")\\n \\n \\n\"))\n",
        "pd.set_option('display.max_colwidth', None)\n",
        "df1 = pd.DataFrame(contents, columns = {\"Agenda\"})\n",
        "df1 = df1[:-1]\n",
        "#df1\n",
        "\n",
        "df2 = df1['Agenda'].str.split('Halaman', 1, expand=True)\n",
        "df2 = df2.rename(columns = {0: \"Agenda\", 1: \"Page\"})\n",
        "df2['Agenda'] = df2['Agenda'].str.replace('\\n', '')\n",
        "df2['Page'] = df2['Page'].str.replace('\\n', '')\n",
        "df2['Agenda'] = df2['Agenda'].str[:-2]\n",
        "df2 = df2.dropna(axis = 'rows')\n",
        "df2"
      ],
      "execution_count": 70,
      "outputs": [
        {
          "output_type": "execute_result",
          "data": {
            "text/html": [
              "<div>\n",
              "<style scoped>\n",
              "    .dataframe tbody tr th:only-of-type {\n",
              "        vertical-align: middle;\n",
              "    }\n",
              "\n",
              "    .dataframe tbody tr th {\n",
              "        vertical-align: top;\n",
              "    }\n",
              "\n",
              "    .dataframe thead th {\n",
              "        text-align: right;\n",
              "    }\n",
              "</style>\n",
              "<table border=\"1\" class=\"dataframe\">\n",
              "  <thead>\n",
              "    <tr style=\"text-align: right;\">\n",
              "      <th></th>\n",
              "      <th>Agenda</th>\n",
              "      <th>Page</th>\n",
              "    </tr>\n",
              "  </thead>\n",
              "  <tbody>\n",
              "    <tr>\n",
              "      <th>0</th>\n",
              "      <td>Naskhah belum disemak   PENYATA RASMI PARLIMEN DEWAN RAKYAT PARLIMEN KEEMPAT BELAS PENGGAL KEDUA MESYUARAT KETIGA   Bil. 68 Khamis        5 Disember 2019   K A N D U N G A N   PEMASYHURAN TUAN YANG DI-PETUA:  - Hari Terakhir Setiausaha Dewan Rakyat, Datuk Roosme binti Hamzah   Mengendalikan Urusan Dewan Rakyat</td>\n",
              "      <td>1</td>\n",
              "    </tr>\n",
              "    <tr>\n",
              "      <th>1</th>\n",
              "      <td>USUL MENANGGUHKAN BACAAN KALI YANG KEDUA DAN KETIGA    RANG UNDANG-UNDANG DI BAWAH P.M. 62</td>\n",
              "      <td>1</td>\n",
              "    </tr>\n",
              "    <tr>\n",
              "      <th>2</th>\n",
              "      <td>JAWAPAN-JAWAPAN MENTERI BAGI PERTANYAAN-PERTANYAAN</td>\n",
              "      <td>2</td>\n",
              "    </tr>\n",
              "    <tr>\n",
              "      <th>3</th>\n",
              "      <td>JAWAPAN-JAWAPAN LISAN BAGI PERTANYAAN-PERTANYAAN</td>\n",
              "      <td>8</td>\n",
              "    </tr>\n",
              "    <tr>\n",
              "      <th>4</th>\n",
              "      <td>USUL:  Waktu Mesyuarat dan Urusan Dibebaskan Daripada    Peraturan Mesyuarat</td>\n",
              "      <td>37</td>\n",
              "    </tr>\n",
              "    <tr>\n",
              "      <th>5</th>\n",
              "      <td>PETUA TUAN YANG DI-PERTUA:  -</td>\n",
              "      <td>37</td>\n",
              "    </tr>\n",
              "    <tr>\n",
              "      <th>6</th>\n",
              "      <td>USUL MENTERI DI JABATAN PERDANA MENTERI   DI BAWAH P.M 27(3):  - Laporan Tahunan dan Penyata Kewangan Suruhanjaya    Hak Asasi Manusia Malaysia (SUHAKAM) 2018</td>\n",
              "      <td>42</td>\n",
              "    </tr>\n",
              "    <tr>\n",
              "      <th>7</th>\n",
              "      <td>USUL-USUL MENTERI KEWANGAN:  - Akta Kastam 1967</td>\n",
              "      <td>100</td>\n",
              "    </tr>\n",
              "    <tr>\n",
              "      <th>8</th>\n",
              "      <td>- Akta Eksais 1976</td>\n",
              "      <td>104</td>\n",
              "    </tr>\n",
              "    <tr>\n",
              "      <th>9</th>\n",
              "      <td>- Akta Cukai Perkhidmatan 2018</td>\n",
              "      <td>105</td>\n",
              "    </tr>\n",
              "    <tr>\n",
              "      <th>10</th>\n",
              "      <td>USUL MENTERI SUMBER MANUSIA DI BAWAH P.M 27(3):  - Merujuk YB. Pasir Salak Kepada Jawatankuasa Hak dan Kebebasan</td>\n",
              "      <td>111</td>\n",
              "    </tr>\n",
              "  </tbody>\n",
              "</table>\n",
              "</div>"
            ],
            "text/plain": [
              "                                                                                                                                                                                                                                                                                                                     Agenda     Page\n",
              "0   Naskhah belum disemak   PENYATA RASMI PARLIMEN DEWAN RAKYAT PARLIMEN KEEMPAT BELAS PENGGAL KEDUA MESYUARAT KETIGA   Bil. 68 Khamis        5 Disember 2019   K A N D U N G A N   PEMASYHURAN TUAN YANG DI-PETUA:  - Hari Terakhir Setiausaha Dewan Rakyat, Datuk Roosme binti Hamzah   Mengendalikan Urusan Dewan Rakyat        1\n",
              "1                                                                                                                                                                                                                                USUL MENANGGUHKAN BACAAN KALI YANG KEDUA DAN KETIGA    RANG UNDANG-UNDANG DI BAWAH P.M. 62        1\n",
              "2                                                                                                                                                                                                                                                                        JAWAPAN-JAWAPAN MENTERI BAGI PERTANYAAN-PERTANYAAN        2\n",
              "3                                                                                                                                                                                                                                                                          JAWAPAN-JAWAPAN LISAN BAGI PERTANYAAN-PERTANYAAN        8\n",
              "4                                                                                                                                                                                                                                              USUL:  Waktu Mesyuarat dan Urusan Dibebaskan Daripada    Peraturan Mesyuarat       37\n",
              "5                                                                                                                                                                                                                                                                                            PETUA TUAN YANG DI-PERTUA:  -        37\n",
              "6                                                                                                                                                           USUL MENTERI DI JABATAN PERDANA MENTERI   DI BAWAH P.M 27(3):  - Laporan Tahunan dan Penyata Kewangan Suruhanjaya    Hak Asasi Manusia Malaysia (SUHAKAM) 2018        42\n",
              "7                                                                                                                                                                                                                                                                          USUL-USUL MENTERI KEWANGAN:  - Akta Kastam 1967       100\n",
              "8                                                                                                                                                                                                                                                                                                       - Akta Eksais 1976       104\n",
              "9                                                                                                                                                                                                                                                                                           - Akta Cukai Perkhidmatan 2018       105\n",
              "10                                                                                                                                                                                                         USUL MENTERI SUMBER MANUSIA DI BAWAH P.M 27(3):  - Merujuk YB. Pasir Salak Kepada Jawatankuasa Hak dan Kebebasan      111"
            ]
          },
          "metadata": {
            "tags": []
          },
          "execution_count": 70
        }
      ]
    },
    {
      "cell_type": "code",
      "metadata": {
        "id": "VRCO9iSwaU6a",
        "colab_type": "code",
        "colab": {
          "base_uri": "https://localhost:8080/",
          "height": 54
        },
        "outputId": "f3cc2455-0a2f-4a8c-f1d2-f87de78b35f5"
      },
      "source": [
        "text = []\n",
        "text_container1 = []\n",
        "\n",
        "for i in range(int(df2.iloc[1,1]), int(df2.iloc[2,1])):\n",
        "  pageObject = pdfReader.getPage(i)\n",
        "  content = list(pageObject.extractText().split(\"\\n \\n \\n\"))\n",
        "  text_container1.append(content)\n",
        "\n",
        "text_container2 = [''.join(x) for x in text_container1]\n",
        "text = [''.join(text_container2)]\n",
        "text = [t.replace('\\n', '') for t in text]\n",
        "text"
      ],
      "execution_count": 96,
      "outputs": [
        {
          "output_type": "execute_result",
          "data": {
            "text/plain": [
              "['DR. 5.12.2019 1MALAYSIA DEWAN RAKYAT PARLIMEN KEEMPAT BELAS PENGGAL KEDUA MESYUARAT KETIGA Khamis, 5 Disember 2019 Mesyuarat dimulakan pada pukul 10.00 pagi DOA [Timbalan Yang di-Pertua (Tuan Nga Kor Ming) mempengerusikan Mesyuarat] ____________________________________________________________________ PEMASYHURAN TUAN YANG DI-PERTUA Hari Terakhir Setiausaha Dewan Rakyat, Datuk Roosme binti Hamzah Mengendalikan Urusan Dewan RakyatTimbalan Yang di-Pertua [Tuan Nga Kor Ming]:  Salam sejahtera Ahli-ahli Yang Berhormat.  Setelah sembilan minggu Dewan Rakyat bersidang, hari ini merupakan hari yang terakhir Dewan yang mulia ini bermesyuarat untuk tahun ini. Untuk makluman Dewan ini, hari ini juga merupakan hari yang terakhir Yang Berbahagia Datuk Roosme binti Hamzah, Setiausaha Dewan Rakyat [Tepuk] mengendalikan urusan Dewan Rakyat, [Tepuk] setelah 40 tahun berkhidmat sebagai penjawat awam dan 19 tahun berkhidmat untuk Dewan yang mulia ini. [Tepuk] Yang Berbahagia Datuk Roosme binti Hamzah akan bersara pada Februari tahun 2020. Untuk segala bakti, budi dan khidmat yang dicurahkan, pagi ini saya menghadiahkan serangkap pantun khas untuk Setiausaha Dewan Rakyat sebagai penghargaan dan pengiktirafan seperti berikut: Di atas bukit tanamnya ubi,                Burung tempua buatnya sarang,, Bukan budi sebarang budi ,    Budi baik akan sentiasa dikenang.  [Tepuk] Kepada rakyat Malaysia yang beragama Kristian, May Wish You a Merry Christmas and a blessed New Year [Tepuk]   ']"
            ]
          },
          "metadata": {
            "tags": []
          },
          "execution_count": 96
        }
      ]
    },
    {
      "cell_type": "code",
      "metadata": {
        "id": "MzfswyKBmSxa",
        "colab_type": "code",
        "colab": {
          "base_uri": "https://localhost:8080/",
          "height": 119
        },
        "outputId": "c16d65c1-4845-4b2e-8a3e-2692c54de353"
      },
      "source": [
        "df1 = model1.predict(str(text),get_proba=True)\n",
        "df1"
      ],
      "execution_count": 97,
      "outputs": [
        {
          "output_type": "execute_result",
          "data": {
            "text/plain": [
              "{'anger': 0.235558008521128,\n",
              " 'fear': 0.10696102665686467,\n",
              " 'joy': 0.21605635436749984,\n",
              " 'love': 0.16185811091939398,\n",
              " 'sadness': 0.18207656966158456,\n",
              " 'surprise': 0.09748992987352842}"
            ]
          },
          "metadata": {
            "tags": []
          },
          "execution_count": 97
        }
      ]
    },
    {
      "cell_type": "code",
      "metadata": {
        "id": "-b5KsQv9miKL",
        "colab_type": "code",
        "colab": {
          "base_uri": "https://localhost:8080/",
          "height": 119
        },
        "outputId": "fd64064e-b572-43a7-e462-f4f64d534187"
      },
      "source": [
        "df3 = model1.predict(str(text),get_proba=True)\n",
        "df3"
      ],
      "execution_count": 72,
      "outputs": [
        {
          "output_type": "execute_result",
          "data": {
            "text/plain": [
              "{'anger': 0.22312904187945617,\n",
              " 'fear': 0.15592744266206093,\n",
              " 'joy': 0.23270980281352982,\n",
              " 'love': 0.1518978302781476,\n",
              " 'sadness': 0.14512887215715098,\n",
              " 'surprise': 0.09120701020966909}"
            ]
          },
          "metadata": {
            "tags": []
          },
          "execution_count": 72
        }
      ]
    },
    {
      "cell_type": "code",
      "metadata": {
        "id": "V2UQjQF-miel",
        "colab_type": "code",
        "colab": {
          "base_uri": "https://localhost:8080/",
          "height": 119
        },
        "outputId": "37b88488-cc75-4da8-e595-fdab0a863c48"
      },
      "source": [
        "df4 = model1.predict(str(text),get_proba=True)\n",
        "df4"
      ],
      "execution_count": 74,
      "outputs": [
        {
          "output_type": "execute_result",
          "data": {
            "text/plain": [
              "{'anger': 0.2137277213101534,\n",
              " 'fear': 0.11871389287804936,\n",
              " 'joy': 0.2415828488667345,\n",
              " 'love': 0.15996455521074487,\n",
              " 'sadness': 0.1794948182882762,\n",
              " 'surprise': 0.08651616344604429}"
            ]
          },
          "metadata": {
            "tags": []
          },
          "execution_count": 74
        }
      ]
    },
    {
      "cell_type": "code",
      "metadata": {
        "id": "TL1lfiERmihL",
        "colab_type": "code",
        "colab": {
          "base_uri": "https://localhost:8080/",
          "height": 119
        },
        "outputId": "9f673c17-9545-4090-f624-709553020e15"
      },
      "source": [
        "df5 = model1.predict(str(text),get_proba=True)\n",
        "df5"
      ],
      "execution_count": 76,
      "outputs": [
        {
          "output_type": "execute_result",
          "data": {
            "text/plain": [
              "{'anger': 0.16666666666666669,\n",
              " 'fear': 0.16666666666666669,\n",
              " 'joy': 0.16666666666666669,\n",
              " 'love': 0.16666666666666669,\n",
              " 'sadness': 0.16666666666666669,\n",
              " 'surprise': 0.16666666666666669}"
            ]
          },
          "metadata": {
            "tags": []
          },
          "execution_count": 76
        }
      ]
    },
    {
      "cell_type": "code",
      "metadata": {
        "id": "u0hBb6U6mijr",
        "colab_type": "code",
        "colab": {
          "base_uri": "https://localhost:8080/",
          "height": 119
        },
        "outputId": "e72a02b3-cb24-47b3-f7df-6a3c228101ed"
      },
      "source": [
        "df6 = model1.predict(str(text),get_proba=True)\n",
        "df6"
      ],
      "execution_count": 78,
      "outputs": [
        {
          "output_type": "execute_result",
          "data": {
            "text/plain": [
              "{'anger': 0.37632751610971343,\n",
              " 'fear': 0.12322983578119871,\n",
              " 'joy': 0.14652570533025758,\n",
              " 'love': 0.12392600191122613,\n",
              " 'sadness': 0.13566906206846543,\n",
              " 'surprise': 0.09432187879914686}"
            ]
          },
          "metadata": {
            "tags": []
          },
          "execution_count": 78
        }
      ]
    },
    {
      "cell_type": "code",
      "metadata": {
        "id": "hpxmajK8ndMj",
        "colab_type": "code",
        "colab": {
          "base_uri": "https://localhost:8080/",
          "height": 119
        },
        "outputId": "8308f78a-49b7-47a3-95d8-8902077cf314"
      },
      "source": [
        "df7 = model1.predict(str(text),get_proba=True)\n",
        "df7"
      ],
      "execution_count": 80,
      "outputs": [
        {
          "output_type": "execute_result",
          "data": {
            "text/plain": [
              "{'anger': 0.23888187996423482,\n",
              " 'fear': 0.1494932539610819,\n",
              " 'joy': 0.22800663736630164,\n",
              " 'love': 0.15417127193800462,\n",
              " 'sadness': 0.16076499419397888,\n",
              " 'surprise': 0.06868196257641315}"
            ]
          },
          "metadata": {
            "tags": []
          },
          "execution_count": 80
        }
      ]
    },
    {
      "cell_type": "code",
      "metadata": {
        "id": "aSkAlzb9ndPA",
        "colab_type": "code",
        "colab": {
          "base_uri": "https://localhost:8080/",
          "height": 119
        },
        "outputId": "764826c7-a2ad-4011-8a11-d076f0380719"
      },
      "source": [
        "df8 = model1.predict(str(text),get_proba=True)\n",
        "df8"
      ],
      "execution_count": 82,
      "outputs": [
        {
          "output_type": "execute_result",
          "data": {
            "text/plain": [
              "{'anger': 0.20946288720170378,\n",
              " 'fear': 0.14703562596183595,\n",
              " 'joy': 0.21047199077506926,\n",
              " 'love': 0.17616410890003747,\n",
              " 'sadness': 0.1532692857762936,\n",
              " 'surprise': 0.10359610138506962}"
            ]
          },
          "metadata": {
            "tags": []
          },
          "execution_count": 82
        }
      ]
    },
    {
      "cell_type": "code",
      "metadata": {
        "id": "hr6YmofIndRM",
        "colab_type": "code",
        "colab": {
          "base_uri": "https://localhost:8080/",
          "height": 119
        },
        "outputId": "062b9c5a-ea3c-4b84-c77a-d86ef2f9292d"
      },
      "source": [
        "df9 = model1.predict(str(text),get_proba=True)\n",
        "df9"
      ],
      "execution_count": 84,
      "outputs": [
        {
          "output_type": "execute_result",
          "data": {
            "text/plain": [
              "{'anger': 0.15222530861847192,\n",
              " 'fear': 0.14987464810888637,\n",
              " 'joy': 0.2407621770230767,\n",
              " 'love': 0.20637363453058483,\n",
              " 'sadness': 0.13815982712504968,\n",
              " 'surprise': 0.11260440459392983}"
            ]
          },
          "metadata": {
            "tags": []
          },
          "execution_count": 84
        }
      ]
    },
    {
      "cell_type": "code",
      "metadata": {
        "id": "j6q13onlndTu",
        "colab_type": "code",
        "colab": {
          "base_uri": "https://localhost:8080/",
          "height": 119
        },
        "outputId": "964a8a2e-0e16-42f0-c2ec-88258168d63a"
      },
      "source": [
        "df10 = model1.predict(str(text),get_proba=True)\n",
        "df10"
      ],
      "execution_count": 86,
      "outputs": [
        {
          "output_type": "execute_result",
          "data": {
            "text/plain": [
              "{'anger': 0.2872964328488459,\n",
              " 'fear': 0.12894760869030839,\n",
              " 'joy': 0.1836698495609039,\n",
              " 'love': 0.14497960051191774,\n",
              " 'sadness': 0.15972807634800293,\n",
              " 'surprise': 0.09537843204000938}"
            ]
          },
          "metadata": {
            "tags": []
          },
          "execution_count": 86
        }
      ]
    },
    {
      "cell_type": "code",
      "metadata": {
        "id": "jkORvii-ndVy",
        "colab_type": "code",
        "colab": {
          "base_uri": "https://localhost:8080/",
          "height": 328
        },
        "outputId": "a8e4282e-65c8-4878-b748-360a783fc45b"
      },
      "source": [
        "coef_df = pd.DataFrame([df1, df3, df4, df5, df6, df7, df8, df9, df10])\n",
        "coef_df"
      ],
      "execution_count": 104,
      "outputs": [
        {
          "output_type": "execute_result",
          "data": {
            "text/html": [
              "<div>\n",
              "<style scoped>\n",
              "    .dataframe tbody tr th:only-of-type {\n",
              "        vertical-align: middle;\n",
              "    }\n",
              "\n",
              "    .dataframe tbody tr th {\n",
              "        vertical-align: top;\n",
              "    }\n",
              "\n",
              "    .dataframe thead th {\n",
              "        text-align: right;\n",
              "    }\n",
              "</style>\n",
              "<table border=\"1\" class=\"dataframe\">\n",
              "  <thead>\n",
              "    <tr style=\"text-align: right;\">\n",
              "      <th></th>\n",
              "      <th>anger</th>\n",
              "      <th>fear</th>\n",
              "      <th>joy</th>\n",
              "      <th>love</th>\n",
              "      <th>sadness</th>\n",
              "      <th>surprise</th>\n",
              "    </tr>\n",
              "  </thead>\n",
              "  <tbody>\n",
              "    <tr>\n",
              "      <th>0</th>\n",
              "      <td>0.235558</td>\n",
              "      <td>0.106961</td>\n",
              "      <td>0.216056</td>\n",
              "      <td>0.161858</td>\n",
              "      <td>0.182077</td>\n",
              "      <td>0.097490</td>\n",
              "    </tr>\n",
              "    <tr>\n",
              "      <th>1</th>\n",
              "      <td>0.223129</td>\n",
              "      <td>0.155927</td>\n",
              "      <td>0.232710</td>\n",
              "      <td>0.151898</td>\n",
              "      <td>0.145129</td>\n",
              "      <td>0.091207</td>\n",
              "    </tr>\n",
              "    <tr>\n",
              "      <th>2</th>\n",
              "      <td>0.213728</td>\n",
              "      <td>0.118714</td>\n",
              "      <td>0.241583</td>\n",
              "      <td>0.159965</td>\n",
              "      <td>0.179495</td>\n",
              "      <td>0.086516</td>\n",
              "    </tr>\n",
              "    <tr>\n",
              "      <th>3</th>\n",
              "      <td>0.166667</td>\n",
              "      <td>0.166667</td>\n",
              "      <td>0.166667</td>\n",
              "      <td>0.166667</td>\n",
              "      <td>0.166667</td>\n",
              "      <td>0.166667</td>\n",
              "    </tr>\n",
              "    <tr>\n",
              "      <th>4</th>\n",
              "      <td>0.376328</td>\n",
              "      <td>0.123230</td>\n",
              "      <td>0.146526</td>\n",
              "      <td>0.123926</td>\n",
              "      <td>0.135669</td>\n",
              "      <td>0.094322</td>\n",
              "    </tr>\n",
              "    <tr>\n",
              "      <th>5</th>\n",
              "      <td>0.238882</td>\n",
              "      <td>0.149493</td>\n",
              "      <td>0.228007</td>\n",
              "      <td>0.154171</td>\n",
              "      <td>0.160765</td>\n",
              "      <td>0.068682</td>\n",
              "    </tr>\n",
              "    <tr>\n",
              "      <th>6</th>\n",
              "      <td>0.209463</td>\n",
              "      <td>0.147036</td>\n",
              "      <td>0.210472</td>\n",
              "      <td>0.176164</td>\n",
              "      <td>0.153269</td>\n",
              "      <td>0.103596</td>\n",
              "    </tr>\n",
              "    <tr>\n",
              "      <th>7</th>\n",
              "      <td>0.152225</td>\n",
              "      <td>0.149875</td>\n",
              "      <td>0.240762</td>\n",
              "      <td>0.206374</td>\n",
              "      <td>0.138160</td>\n",
              "      <td>0.112604</td>\n",
              "    </tr>\n",
              "    <tr>\n",
              "      <th>8</th>\n",
              "      <td>0.287296</td>\n",
              "      <td>0.128948</td>\n",
              "      <td>0.183670</td>\n",
              "      <td>0.144980</td>\n",
              "      <td>0.159728</td>\n",
              "      <td>0.095378</td>\n",
              "    </tr>\n",
              "  </tbody>\n",
              "</table>\n",
              "</div>"
            ],
            "text/plain": [
              "      anger      fear       joy      love   sadness  surprise\n",
              "0  0.235558  0.106961  0.216056  0.161858  0.182077  0.097490\n",
              "1  0.223129  0.155927  0.232710  0.151898  0.145129  0.091207\n",
              "2  0.213728  0.118714  0.241583  0.159965  0.179495  0.086516\n",
              "3  0.166667  0.166667  0.166667  0.166667  0.166667  0.166667\n",
              "4  0.376328  0.123230  0.146526  0.123926  0.135669  0.094322\n",
              "5  0.238882  0.149493  0.228007  0.154171  0.160765  0.068682\n",
              "6  0.209463  0.147036  0.210472  0.176164  0.153269  0.103596\n",
              "7  0.152225  0.149875  0.240762  0.206374  0.138160  0.112604\n",
              "8  0.287296  0.128948  0.183670  0.144980  0.159728  0.095378"
            ]
          },
          "metadata": {
            "tags": []
          },
          "execution_count": 104
        }
      ]
    },
    {
      "cell_type": "code",
      "metadata": {
        "id": "Z6jL8YbYoOEX",
        "colab_type": "code",
        "colab": {
          "base_uri": "https://localhost:8080/",
          "height": 111
        },
        "outputId": "e610c421-1d9d-4268-bfa2-5b61cc7c5cb8"
      },
      "source": [
        "initial_df = pd.DataFrame([(0, 0, 0, 0, 0, 0), (0, 0, 0, 0, 0, 0)], columns = {'anger', 'fear', 'joy', 'love', 'sadness', 'surprise'})\n",
        "initial_df"
      ],
      "execution_count": 103,
      "outputs": [
        {
          "output_type": "execute_result",
          "data": {
            "text/html": [
              "<div>\n",
              "<style scoped>\n",
              "    .dataframe tbody tr th:only-of-type {\n",
              "        vertical-align: middle;\n",
              "    }\n",
              "\n",
              "    .dataframe tbody tr th {\n",
              "        vertical-align: top;\n",
              "    }\n",
              "\n",
              "    .dataframe thead th {\n",
              "        text-align: right;\n",
              "    }\n",
              "</style>\n",
              "<table border=\"1\" class=\"dataframe\">\n",
              "  <thead>\n",
              "    <tr style=\"text-align: right;\">\n",
              "      <th></th>\n",
              "      <th>anger</th>\n",
              "      <th>sadness</th>\n",
              "      <th>fear</th>\n",
              "      <th>love</th>\n",
              "      <th>surprise</th>\n",
              "      <th>joy</th>\n",
              "    </tr>\n",
              "  </thead>\n",
              "  <tbody>\n",
              "    <tr>\n",
              "      <th>0</th>\n",
              "      <td>0</td>\n",
              "      <td>0</td>\n",
              "      <td>0</td>\n",
              "      <td>0</td>\n",
              "      <td>0</td>\n",
              "      <td>0</td>\n",
              "    </tr>\n",
              "    <tr>\n",
              "      <th>1</th>\n",
              "      <td>0</td>\n",
              "      <td>0</td>\n",
              "      <td>0</td>\n",
              "      <td>0</td>\n",
              "      <td>0</td>\n",
              "      <td>0</td>\n",
              "    </tr>\n",
              "  </tbody>\n",
              "</table>\n",
              "</div>"
            ],
            "text/plain": [
              "   anger  sadness  fear  love  surprise  joy\n",
              "0      0        0     0     0         0    0\n",
              "1      0        0     0     0         0    0"
            ]
          },
          "metadata": {
            "tags": []
          },
          "execution_count": 103
        }
      ]
    },
    {
      "cell_type": "code",
      "metadata": {
        "id": "EPSprOnXoOGs",
        "colab_type": "code",
        "colab": {
          "base_uri": "https://localhost:8080/",
          "height": 390
        },
        "outputId": "3614a496-da24-4629-f0d8-66ccab028929"
      },
      "source": [
        "compile_df = pd.concat([initial_df, coef_df], ignore_index = True)\n",
        "compile_df"
      ],
      "execution_count": 107,
      "outputs": [
        {
          "output_type": "execute_result",
          "data": {
            "text/html": [
              "<div>\n",
              "<style scoped>\n",
              "    .dataframe tbody tr th:only-of-type {\n",
              "        vertical-align: middle;\n",
              "    }\n",
              "\n",
              "    .dataframe tbody tr th {\n",
              "        vertical-align: top;\n",
              "    }\n",
              "\n",
              "    .dataframe thead th {\n",
              "        text-align: right;\n",
              "    }\n",
              "</style>\n",
              "<table border=\"1\" class=\"dataframe\">\n",
              "  <thead>\n",
              "    <tr style=\"text-align: right;\">\n",
              "      <th></th>\n",
              "      <th>anger</th>\n",
              "      <th>sadness</th>\n",
              "      <th>fear</th>\n",
              "      <th>love</th>\n",
              "      <th>surprise</th>\n",
              "      <th>joy</th>\n",
              "    </tr>\n",
              "  </thead>\n",
              "  <tbody>\n",
              "    <tr>\n",
              "      <th>0</th>\n",
              "      <td>0.000000</td>\n",
              "      <td>0.000000</td>\n",
              "      <td>0.000000</td>\n",
              "      <td>0.000000</td>\n",
              "      <td>0.000000</td>\n",
              "      <td>0.000000</td>\n",
              "    </tr>\n",
              "    <tr>\n",
              "      <th>1</th>\n",
              "      <td>0.000000</td>\n",
              "      <td>0.000000</td>\n",
              "      <td>0.000000</td>\n",
              "      <td>0.000000</td>\n",
              "      <td>0.000000</td>\n",
              "      <td>0.000000</td>\n",
              "    </tr>\n",
              "    <tr>\n",
              "      <th>2</th>\n",
              "      <td>0.235558</td>\n",
              "      <td>0.182077</td>\n",
              "      <td>0.106961</td>\n",
              "      <td>0.161858</td>\n",
              "      <td>0.097490</td>\n",
              "      <td>0.216056</td>\n",
              "    </tr>\n",
              "    <tr>\n",
              "      <th>3</th>\n",
              "      <td>0.223129</td>\n",
              "      <td>0.145129</td>\n",
              "      <td>0.155927</td>\n",
              "      <td>0.151898</td>\n",
              "      <td>0.091207</td>\n",
              "      <td>0.232710</td>\n",
              "    </tr>\n",
              "    <tr>\n",
              "      <th>4</th>\n",
              "      <td>0.213728</td>\n",
              "      <td>0.179495</td>\n",
              "      <td>0.118714</td>\n",
              "      <td>0.159965</td>\n",
              "      <td>0.086516</td>\n",
              "      <td>0.241583</td>\n",
              "    </tr>\n",
              "    <tr>\n",
              "      <th>5</th>\n",
              "      <td>0.166667</td>\n",
              "      <td>0.166667</td>\n",
              "      <td>0.166667</td>\n",
              "      <td>0.166667</td>\n",
              "      <td>0.166667</td>\n",
              "      <td>0.166667</td>\n",
              "    </tr>\n",
              "    <tr>\n",
              "      <th>6</th>\n",
              "      <td>0.376328</td>\n",
              "      <td>0.135669</td>\n",
              "      <td>0.123230</td>\n",
              "      <td>0.123926</td>\n",
              "      <td>0.094322</td>\n",
              "      <td>0.146526</td>\n",
              "    </tr>\n",
              "    <tr>\n",
              "      <th>7</th>\n",
              "      <td>0.238882</td>\n",
              "      <td>0.160765</td>\n",
              "      <td>0.149493</td>\n",
              "      <td>0.154171</td>\n",
              "      <td>0.068682</td>\n",
              "      <td>0.228007</td>\n",
              "    </tr>\n",
              "    <tr>\n",
              "      <th>8</th>\n",
              "      <td>0.209463</td>\n",
              "      <td>0.153269</td>\n",
              "      <td>0.147036</td>\n",
              "      <td>0.176164</td>\n",
              "      <td>0.103596</td>\n",
              "      <td>0.210472</td>\n",
              "    </tr>\n",
              "    <tr>\n",
              "      <th>9</th>\n",
              "      <td>0.152225</td>\n",
              "      <td>0.138160</td>\n",
              "      <td>0.149875</td>\n",
              "      <td>0.206374</td>\n",
              "      <td>0.112604</td>\n",
              "      <td>0.240762</td>\n",
              "    </tr>\n",
              "    <tr>\n",
              "      <th>10</th>\n",
              "      <td>0.287296</td>\n",
              "      <td>0.159728</td>\n",
              "      <td>0.128948</td>\n",
              "      <td>0.144980</td>\n",
              "      <td>0.095378</td>\n",
              "      <td>0.183670</td>\n",
              "    </tr>\n",
              "  </tbody>\n",
              "</table>\n",
              "</div>"
            ],
            "text/plain": [
              "       anger   sadness      fear      love  surprise       joy\n",
              "0   0.000000  0.000000  0.000000  0.000000  0.000000  0.000000\n",
              "1   0.000000  0.000000  0.000000  0.000000  0.000000  0.000000\n",
              "2   0.235558  0.182077  0.106961  0.161858  0.097490  0.216056\n",
              "3   0.223129  0.145129  0.155927  0.151898  0.091207  0.232710\n",
              "4   0.213728  0.179495  0.118714  0.159965  0.086516  0.241583\n",
              "5   0.166667  0.166667  0.166667  0.166667  0.166667  0.166667\n",
              "6   0.376328  0.135669  0.123230  0.123926  0.094322  0.146526\n",
              "7   0.238882  0.160765  0.149493  0.154171  0.068682  0.228007\n",
              "8   0.209463  0.153269  0.147036  0.176164  0.103596  0.210472\n",
              "9   0.152225  0.138160  0.149875  0.206374  0.112604  0.240762\n",
              "10  0.287296  0.159728  0.128948  0.144980  0.095378  0.183670"
            ]
          },
          "metadata": {
            "tags": []
          },
          "execution_count": 107
        }
      ]
    },
    {
      "cell_type": "code",
      "metadata": {
        "id": "onw2AWLwplN_",
        "colab_type": "code",
        "colab": {
          "base_uri": "https://localhost:8080/",
          "height": 526
        },
        "outputId": "37a02a53-781b-4d9d-e123-f3314ad77b56"
      },
      "source": [
        "pd.concat([df2, compile_df], axis = 1)"
      ],
      "execution_count": 108,
      "outputs": [
        {
          "output_type": "execute_result",
          "data": {
            "text/html": [
              "<div>\n",
              "<style scoped>\n",
              "    .dataframe tbody tr th:only-of-type {\n",
              "        vertical-align: middle;\n",
              "    }\n",
              "\n",
              "    .dataframe tbody tr th {\n",
              "        vertical-align: top;\n",
              "    }\n",
              "\n",
              "    .dataframe thead th {\n",
              "        text-align: right;\n",
              "    }\n",
              "</style>\n",
              "<table border=\"1\" class=\"dataframe\">\n",
              "  <thead>\n",
              "    <tr style=\"text-align: right;\">\n",
              "      <th></th>\n",
              "      <th>Agenda</th>\n",
              "      <th>Page</th>\n",
              "      <th>anger</th>\n",
              "      <th>sadness</th>\n",
              "      <th>fear</th>\n",
              "      <th>love</th>\n",
              "      <th>surprise</th>\n",
              "      <th>joy</th>\n",
              "    </tr>\n",
              "  </thead>\n",
              "  <tbody>\n",
              "    <tr>\n",
              "      <th>0</th>\n",
              "      <td>Naskhah belum disemak   PENYATA RASMI PARLIMEN DEWAN RAKYAT PARLIMEN KEEMPAT BELAS PENGGAL KEDUA MESYUARAT KETIGA   Bil. 68 Khamis        5 Disember 2019   K A N D U N G A N   PEMASYHURAN TUAN YANG DI-PETUA:  - Hari Terakhir Setiausaha Dewan Rakyat, Datuk Roosme binti Hamzah   Mengendalikan Urusan Dewan Rakyat</td>\n",
              "      <td>1</td>\n",
              "      <td>0.000000</td>\n",
              "      <td>0.000000</td>\n",
              "      <td>0.000000</td>\n",
              "      <td>0.000000</td>\n",
              "      <td>0.000000</td>\n",
              "      <td>0.000000</td>\n",
              "    </tr>\n",
              "    <tr>\n",
              "      <th>1</th>\n",
              "      <td>USUL MENANGGUHKAN BACAAN KALI YANG KEDUA DAN KETIGA    RANG UNDANG-UNDANG DI BAWAH P.M. 62</td>\n",
              "      <td>1</td>\n",
              "      <td>0.000000</td>\n",
              "      <td>0.000000</td>\n",
              "      <td>0.000000</td>\n",
              "      <td>0.000000</td>\n",
              "      <td>0.000000</td>\n",
              "      <td>0.000000</td>\n",
              "    </tr>\n",
              "    <tr>\n",
              "      <th>2</th>\n",
              "      <td>JAWAPAN-JAWAPAN MENTERI BAGI PERTANYAAN-PERTANYAAN</td>\n",
              "      <td>2</td>\n",
              "      <td>0.235558</td>\n",
              "      <td>0.182077</td>\n",
              "      <td>0.106961</td>\n",
              "      <td>0.161858</td>\n",
              "      <td>0.097490</td>\n",
              "      <td>0.216056</td>\n",
              "    </tr>\n",
              "    <tr>\n",
              "      <th>3</th>\n",
              "      <td>JAWAPAN-JAWAPAN LISAN BAGI PERTANYAAN-PERTANYAAN</td>\n",
              "      <td>8</td>\n",
              "      <td>0.223129</td>\n",
              "      <td>0.145129</td>\n",
              "      <td>0.155927</td>\n",
              "      <td>0.151898</td>\n",
              "      <td>0.091207</td>\n",
              "      <td>0.232710</td>\n",
              "    </tr>\n",
              "    <tr>\n",
              "      <th>4</th>\n",
              "      <td>USUL:  Waktu Mesyuarat dan Urusan Dibebaskan Daripada    Peraturan Mesyuarat</td>\n",
              "      <td>37</td>\n",
              "      <td>0.213728</td>\n",
              "      <td>0.179495</td>\n",
              "      <td>0.118714</td>\n",
              "      <td>0.159965</td>\n",
              "      <td>0.086516</td>\n",
              "      <td>0.241583</td>\n",
              "    </tr>\n",
              "    <tr>\n",
              "      <th>5</th>\n",
              "      <td>PETUA TUAN YANG DI-PERTUA:  -</td>\n",
              "      <td>37</td>\n",
              "      <td>0.166667</td>\n",
              "      <td>0.166667</td>\n",
              "      <td>0.166667</td>\n",
              "      <td>0.166667</td>\n",
              "      <td>0.166667</td>\n",
              "      <td>0.166667</td>\n",
              "    </tr>\n",
              "    <tr>\n",
              "      <th>6</th>\n",
              "      <td>USUL MENTERI DI JABATAN PERDANA MENTERI   DI BAWAH P.M 27(3):  - Laporan Tahunan dan Penyata Kewangan Suruhanjaya    Hak Asasi Manusia Malaysia (SUHAKAM) 2018</td>\n",
              "      <td>42</td>\n",
              "      <td>0.376328</td>\n",
              "      <td>0.135669</td>\n",
              "      <td>0.123230</td>\n",
              "      <td>0.123926</td>\n",
              "      <td>0.094322</td>\n",
              "      <td>0.146526</td>\n",
              "    </tr>\n",
              "    <tr>\n",
              "      <th>7</th>\n",
              "      <td>USUL-USUL MENTERI KEWANGAN:  - Akta Kastam 1967</td>\n",
              "      <td>100</td>\n",
              "      <td>0.238882</td>\n",
              "      <td>0.160765</td>\n",
              "      <td>0.149493</td>\n",
              "      <td>0.154171</td>\n",
              "      <td>0.068682</td>\n",
              "      <td>0.228007</td>\n",
              "    </tr>\n",
              "    <tr>\n",
              "      <th>8</th>\n",
              "      <td>- Akta Eksais 1976</td>\n",
              "      <td>104</td>\n",
              "      <td>0.209463</td>\n",
              "      <td>0.153269</td>\n",
              "      <td>0.147036</td>\n",
              "      <td>0.176164</td>\n",
              "      <td>0.103596</td>\n",
              "      <td>0.210472</td>\n",
              "    </tr>\n",
              "    <tr>\n",
              "      <th>9</th>\n",
              "      <td>- Akta Cukai Perkhidmatan 2018</td>\n",
              "      <td>105</td>\n",
              "      <td>0.152225</td>\n",
              "      <td>0.138160</td>\n",
              "      <td>0.149875</td>\n",
              "      <td>0.206374</td>\n",
              "      <td>0.112604</td>\n",
              "      <td>0.240762</td>\n",
              "    </tr>\n",
              "    <tr>\n",
              "      <th>10</th>\n",
              "      <td>USUL MENTERI SUMBER MANUSIA DI BAWAH P.M 27(3):  - Merujuk YB. Pasir Salak Kepada Jawatankuasa Hak dan Kebebasan</td>\n",
              "      <td>111</td>\n",
              "      <td>0.287296</td>\n",
              "      <td>0.159728</td>\n",
              "      <td>0.128948</td>\n",
              "      <td>0.144980</td>\n",
              "      <td>0.095378</td>\n",
              "      <td>0.183670</td>\n",
              "    </tr>\n",
              "  </tbody>\n",
              "</table>\n",
              "</div>"
            ],
            "text/plain": [
              "                                                                                                                                                                                                                                                                                                                     Agenda  ...       joy\n",
              "0   Naskhah belum disemak   PENYATA RASMI PARLIMEN DEWAN RAKYAT PARLIMEN KEEMPAT BELAS PENGGAL KEDUA MESYUARAT KETIGA   Bil. 68 Khamis        5 Disember 2019   K A N D U N G A N   PEMASYHURAN TUAN YANG DI-PETUA:  - Hari Terakhir Setiausaha Dewan Rakyat, Datuk Roosme binti Hamzah   Mengendalikan Urusan Dewan Rakyat  ...  0.000000\n",
              "1                                                                                                                                                                                                                                USUL MENANGGUHKAN BACAAN KALI YANG KEDUA DAN KETIGA    RANG UNDANG-UNDANG DI BAWAH P.M. 62  ...  0.000000\n",
              "2                                                                                                                                                                                                                                                                        JAWAPAN-JAWAPAN MENTERI BAGI PERTANYAAN-PERTANYAAN  ...  0.216056\n",
              "3                                                                                                                                                                                                                                                                          JAWAPAN-JAWAPAN LISAN BAGI PERTANYAAN-PERTANYAAN  ...  0.232710\n",
              "4                                                                                                                                                                                                                                              USUL:  Waktu Mesyuarat dan Urusan Dibebaskan Daripada    Peraturan Mesyuarat  ...  0.241583\n",
              "5                                                                                                                                                                                                                                                                                            PETUA TUAN YANG DI-PERTUA:  -   ...  0.166667\n",
              "6                                                                                                                                                           USUL MENTERI DI JABATAN PERDANA MENTERI   DI BAWAH P.M 27(3):  - Laporan Tahunan dan Penyata Kewangan Suruhanjaya    Hak Asasi Manusia Malaysia (SUHAKAM) 2018   ...  0.146526\n",
              "7                                                                                                                                                                                                                                                                          USUL-USUL MENTERI KEWANGAN:  - Akta Kastam 1967   ...  0.228007\n",
              "8                                                                                                                                                                                                                                                                                                       - Akta Eksais 1976   ...  0.210472\n",
              "9                                                                                                                                                                                                                                                                                           - Akta Cukai Perkhidmatan 2018   ...  0.240762\n",
              "10                                                                                                                                                                                                         USUL MENTERI SUMBER MANUSIA DI BAWAH P.M 27(3):  - Merujuk YB. Pasir Salak Kepada Jawatankuasa Hak dan Kebebasan  ...  0.183670\n",
              "\n",
              "[11 rows x 8 columns]"
            ]
          },
          "metadata": {
            "tags": []
          },
          "execution_count": 108
        }
      ]
    },
    {
      "cell_type": "code",
      "metadata": {
        "id": "BIOztE0GBMZW",
        "colab_type": "code",
        "colab": {
          "base_uri": "https://localhost:8080/",
          "height": 156
        },
        "outputId": "2f0f47ac-3813-4bd1-e0d3-4211a59d87d2"
      },
      "source": [
        "import pandas as pd\n",
        "model1 = malaya.emotion.multinomial()"
      ],
      "execution_count": 50,
      "outputs": [
        {
          "output_type": "stream",
          "text": [
            "downloading frozen /root/Malaya/emotion/multinomial model\n"
          ],
          "name": "stdout"
        },
        {
          "output_type": "stream",
          "text": [
            "43.0MB [00:04, 9.56MB/s]                          \n"
          ],
          "name": "stderr"
        },
        {
          "output_type": "stream",
          "text": [
            "downloading frozen /root/Malaya/emotion/multinomial vector\n"
          ],
          "name": "stdout"
        },
        {
          "output_type": "stream",
          "text": [
            "28.0MB [00:03, 7.98MB/s]\n",
            "UserWarning: Trying to unpickle estimator ComplementNB from version 0.21.3 when using version 0.22.2.post1. This might lead to breaking code or invalid results. Use at your own risk. [base.py:318]\n",
            "UserWarning: Trying to unpickle estimator TfidfTransformer from version 0.21.3 when using version 0.22.2.post1. This might lead to breaking code or invalid results. Use at your own risk. [base.py:318]\n",
            "UserWarning: Trying to unpickle estimator TfidfVectorizer from version 0.21.3 when using version 0.22.2.post1. This might lead to breaking code or invalid results. Use at your own risk. [base.py:318]\n"
          ],
          "name": "stderr"
        }
      ]
    },
    {
      "cell_type": "code",
      "metadata": {
        "id": "Qee6LlekC6sS",
        "colab_type": "code",
        "colab": {
          "base_uri": "https://localhost:8080/",
          "height": 34
        },
        "outputId": "688eb2cc-e00a-41c0-c770-d74dba1bb9d0"
      },
      "source": [
        "model1.predict(str(text))"
      ],
      "execution_count": 52,
      "outputs": [
        {
          "output_type": "execute_result",
          "data": {
            "text/plain": [
              "'anger'"
            ]
          },
          "metadata": {
            "tags": []
          },
          "execution_count": 52
        }
      ]
    },
    {
      "cell_type": "code",
      "metadata": {
        "id": "5M5Zki1xC8kI",
        "colab_type": "code",
        "colab": {
          "base_uri": "https://localhost:8080/",
          "height": 119
        },
        "outputId": "52788979-90e5-4328-ba3b-2fa6e96971b4"
      },
      "source": [
        "df = model1.predict(str(text),get_proba=True)\n",
        "df"
      ],
      "execution_count": 53,
      "outputs": [
        {
          "output_type": "execute_result",
          "data": {
            "text/plain": [
              "{'anger': 0.2322205656216536,\n",
              " 'fear': 0.15196103176436718,\n",
              " 'joy': 0.22531317084980992,\n",
              " 'love': 0.15045136038388932,\n",
              " 'sadness': 0.14972305873027125,\n",
              " 'surprise': 0.0903308126500229}"
            ]
          },
          "metadata": {
            "tags": []
          },
          "execution_count": 53
        }
      ]
    },
    {
      "cell_type": "code",
      "metadata": {
        "id": "fGKY7U8OBOPh",
        "colab_type": "code",
        "colab": {
          "base_uri": "https://localhost:8080/",
          "height": 241
        },
        "outputId": "52409058-3c4c-46df-88e7-0d961c00d69a"
      },
      "source": [
        "model2 = malaya.emotion.transformer(model = 'albert', size = 'base')"
      ],
      "execution_count": 54,
      "outputs": [
        {
          "output_type": "stream",
          "text": [
            "downloading frozen /root/Malaya/emotion/albert/base model\n"
          ],
          "name": "stdout"
        },
        {
          "output_type": "stream",
          "text": [
            "43.0MB [00:04, 9.61MB/s]                          \n"
          ],
          "name": "stderr"
        },
        {
          "output_type": "stream",
          "text": [
            "downloading frozen /root/Malaya/emotion/albert/base vocab\n"
          ],
          "name": "stdout"
        },
        {
          "output_type": "stream",
          "text": [
            "1.00MB [00:00, 1.13MB/s]\n"
          ],
          "name": "stderr"
        },
        {
          "output_type": "stream",
          "text": [
            "downloading frozen /root/Malaya/emotion/albert/base tokenizer\n"
          ],
          "name": "stdout"
        },
        {
          "output_type": "stream",
          "text": [
            "1.00MB [00:01, 1.11s/MB]"
          ],
          "name": "stderr"
        },
        {
          "output_type": "stream",
          "text": [
            "WARNING:tensorflow:From /usr/local/lib/python3.6/dist-packages/malaya/_utils/_utils.py:119: The name tf.gfile.GFile is deprecated. Please use tf.io.gfile.GFile instead.\n",
            "\n",
            "WARNING:tensorflow:From /usr/local/lib/python3.6/dist-packages/malaya/_utils/_utils.py:120: The name tf.GraphDef is deprecated. Please use tf.compat.v1.GraphDef instead.\n",
            "\n"
          ],
          "name": "stdout"
        },
        {
          "output_type": "stream",
          "text": [
            "\n"
          ],
          "name": "stderr"
        },
        {
          "output_type": "stream",
          "text": [
            "WARNING:tensorflow:From /usr/local/lib/python3.6/dist-packages/malaya/_utils/_utils.py:115: The name tf.InteractiveSession is deprecated. Please use tf.compat.v1.InteractiveSession instead.\n",
            "\n"
          ],
          "name": "stdout"
        }
      ]
    },
    {
      "cell_type": "code",
      "metadata": {
        "id": "jTTA3l9DjLfg",
        "colab_type": "code",
        "colab": {
          "base_uri": "https://localhost:8080/",
          "height": 34
        },
        "outputId": "a1f21516-4f39-4aea-95d7-46e9d5651d69"
      },
      "source": [
        "model2.predict(str(text))"
      ],
      "execution_count": 56,
      "outputs": [
        {
          "output_type": "execute_result",
          "data": {
            "text/plain": [
              "'love'"
            ]
          },
          "metadata": {
            "tags": []
          },
          "execution_count": 56
        }
      ]
    },
    {
      "cell_type": "code",
      "metadata": {
        "id": "Ve8KttE8Bckk",
        "colab_type": "code",
        "colab": {
          "base_uri": "https://localhost:8080/",
          "height": 119
        },
        "outputId": "454a5916-cca4-455b-80cb-67822b9a6b2e"
      },
      "source": [
        "model2.predict(str(text),get_proba=True)"
      ],
      "execution_count": 55,
      "outputs": [
        {
          "output_type": "execute_result",
          "data": {
            "text/plain": [
              "{'anger': 0.009151203,\n",
              " 'fear': 0.00092121994,\n",
              " 'joy': 0.32646865,\n",
              " 'love': 0.6533584,\n",
              " 'sadness': 0.008700411,\n",
              " 'surprise': 0.0014002562}"
            ]
          },
          "metadata": {
            "tags": []
          },
          "execution_count": 55
        }
      ]
    },
    {
      "cell_type": "code",
      "metadata": {
        "id": "tYjsBS1LBfH2",
        "colab_type": "code",
        "colab": {
          "base_uri": "https://localhost:8080/",
          "height": 629
        },
        "outputId": "3e3e7a48-3fed-4a51-fa66-00322a60da63"
      },
      "source": [
        "anger_text = 'babi la company ni, aku dah la penat datang dari jauh'\n",
        "fear_text = 'takut doh tengok cerita hantu tadi'\n",
        "joy_text = 'bestnya dapat tidur harini, tak payah pergi kerja'\n",
        "love_text = 'aku sayang sgt dia dah doh'\n",
        "sadness_text = 'kecewa tengok kerajaan baru ni, janji ape pun tak dapat'\n",
        "surprise_text = 'sakit jantung aku, terkejut dengan cerita hantu tadi'\n",
        "\n",
        "model2.predict_batch([anger_text, fear_text, joy_text,love_text, sadness_text, surprise_text],get_proba=True)"
      ],
      "execution_count": 25,
      "outputs": [
        {
          "output_type": "execute_result",
          "data": {
            "text/plain": [
              "[{'anger': 0.9996531,\n",
              "  'fear': 0.00016467634,\n",
              "  'joy': 3.432115e-05,\n",
              "  'love': 8.914233e-05,\n",
              "  'sadness': 5.029865e-05,\n",
              "  'surprise': 8.49466e-06},\n",
              " {'anger': 7.855848e-05,\n",
              "  'fear': 0.9998079,\n",
              "  'joy': 3.943694e-05,\n",
              "  'love': 7.105914e-06,\n",
              "  'sadness': 1.9308049e-05,\n",
              "  'surprise': 4.7721343e-05},\n",
              " {'anger': 0.6103214,\n",
              "  'fear': 0.15640654,\n",
              "  'joy': 0.019707654,\n",
              "  'love': 0.00027552724,\n",
              "  'sadness': 0.1873526,\n",
              "  'surprise': 0.025936332},\n",
              " {'anger': 5.250256e-08,\n",
              "  'fear': 3.0957005e-07,\n",
              "  'joy': 2.2956046e-09,\n",
              "  'love': 0.9999995,\n",
              "  'sadness': 1.3047918e-07,\n",
              "  'surprise': 1.1099548e-09},\n",
              " {'anger': 0.0006080763,\n",
              "  'fear': 0.0010392984,\n",
              "  'joy': 9.911215e-06,\n",
              "  'love': 1.6283428e-05,\n",
              "  'sadness': 0.99829847,\n",
              "  'surprise': 2.7959371e-05},\n",
              " {'anger': 0.0018106076,\n",
              "  'fear': 0.003712719,\n",
              "  'joy': 8.7323526e-05,\n",
              "  'love': 0.00021723458,\n",
              "  'sadness': 0.52925926,\n",
              "  'surprise': 0.46491286}]"
            ]
          },
          "metadata": {
            "tags": []
          },
          "execution_count": 25
        }
      ]
    },
    {
      "cell_type": "code",
      "metadata": {
        "id": "W_fsQ5ksBn81",
        "colab_type": "code",
        "colab": {}
      },
      "source": [
        ""
      ],
      "execution_count": 0,
      "outputs": []
    }
  ]
}